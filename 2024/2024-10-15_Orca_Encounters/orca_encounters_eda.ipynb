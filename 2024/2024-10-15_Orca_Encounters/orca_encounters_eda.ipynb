{
 "cells": [
  {
   "cell_type": "code",
   "execution_count": 6,
   "metadata": {},
   "outputs": [
    {
     "data": {
      "text/html": [
       "<div><style>\n",
       ".dataframe > thead > tr,\n",
       ".dataframe > tbody > tr {\n",
       "  text-align: right;\n",
       "  white-space: pre-wrap;\n",
       "}\n",
       "</style>\n",
       "<small>shape: (775, 19)</small><table border=\"1\" class=\"dataframe\"><thead><tr><th>year</th><th>date</th><th>encounter_sequence</th><th>encounter_number</th><th>begin_time</th><th>end_time</th><th>duration</th><th>vessel</th><th>observers</th><th>pods_or_ecotype</th><th>ids_encountered</th><th>location</th><th>begin_latitude</th><th>begin_longitude</th><th>end_latitude</th><th>end_longitude</th><th>encounter_summary</th><th>nmfs_permit</th><th>link</th></tr><tr><td>i64</td><td>str</td><td>str</td><td>i64</td><td>str</td><td>str</td><td>str</td><td>str</td><td>str</td><td>str</td><td>str</td><td>str</td><td>f64</td><td>f64</td><td>f64</td><td>f64</td><td>str</td><td>str</td><td>str</td></tr></thead><tbody><tr><td>2024</td><td>&quot;2024-10-06&quot;</td><td>&quot;1&quot;</td><td>100</td><td>&quot;10:48:00&quot;</td><td>&quot;12:21:00&quot;</td><td>&quot;5580s (~1.55 hours)&quot;</td><td>&quot;Mike 1&quot;</td><td>&quot;Mark Malleson,Joe Zelwietro&quot;</td><td>&quot;K, L&quot;</td><td>null</td><td>&quot;Swiftsure Bank&quot;</td><td>48.510502</td><td>-124.692497</td><td>48.526333</td><td>-124.860001</td><td>&quot;After Mark’s encounter with me…</td><td>&quot;27038/DFO SARA 388&quot;</td><td>&quot;https://www.whaleresearch.com/…</td></tr><tr><td>2024</td><td>&quot;2024-09-16&quot;</td><td>&quot;1&quot;</td><td>96</td><td>&quot;09:30:00&quot;</td><td>&quot;10:11:00&quot;</td><td>&quot;2460s (~41 minutes)&quot;</td><td>&quot;Orcinus&quot;</td><td>&quot;Dave Ellifrit, Michael Weiss,C…</td><td>&quot;L&quot;</td><td>&quot;L90, L128&quot;</td><td>&quot;Haro Strait&quot;</td><td>48.476501</td><td>-123.157837</td><td>48.468334</td><td>-123.161003</td><td>&quot;The morning began with reports…</td><td>&quot;27038/DFO SARA 388&quot;</td><td>&quot;https://www.whaleresearch.com/…</td></tr><tr><td>2024</td><td>&quot;2024-09-15&quot;</td><td>&quot;21&quot;</td><td>95</td><td>&quot;02:15:00&quot;</td><td>&quot;05:00:00&quot;</td><td>&quot;9900s (~2.75 hours)&quot;</td><td>&quot;KCB III, Orcinus&quot;</td><td>&quot;Dave Ellifrit, Michael Weiss,M…</td><td>&quot;L&quot;</td><td>&quot;L90 and L128&quot;</td><td>&quot;Haro Strait&quot;</td><td>48.571667</td><td>-123.199997</td><td>48.558334</td><td>-123.183334</td><td>&quot;J, K, and L pods had been repo…</td><td>&quot;27038/DFO SARA 388&quot;</td><td>&quot;https://www.whaleresearch.com/…</td></tr><tr><td>2024</td><td>&quot;2024-09-13&quot;</td><td>&quot;2&quot;</td><td>94</td><td>&quot;10:34:00&quot;</td><td>&quot;12:05:00&quot;</td><td>&quot;5460s (~1.52 hours)&quot;</td><td>&quot;KCB III&quot;</td><td>&quot;Dave Ellifrit, Michael Weiss,R…</td><td>&quot;K, L&quot;</td><td>null</td><td>&quot;Fraser River&quot;</td><td>49.092667</td><td>-123.33667</td><td>49.187168</td><td>-123.308334</td><td>&quot;Once we left J pod (Encounter …</td><td>&quot;27038/DFO SARA 388&quot;</td><td>&quot;https://www.whaleresearch.com/…</td></tr><tr><td>2024</td><td>&quot;2024-09-13&quot;</td><td>&quot;1&quot;</td><td>93</td><td>&quot;08:45:00&quot;</td><td>&quot;09:26:00&quot;</td><td>&quot;2460s (~41 minutes)&quot;</td><td>&quot;KCB III&quot;</td><td>&quot;Dave Ellifrit, Michael Weiss,R…</td><td>&quot;J&quot;</td><td>null</td><td>&quot;southern Strait of Georgia&quot;</td><td>48.796833</td><td>-123.036835</td><td>48.852333</td><td>-123.060333</td><td>&quot;As we were coming home late af…</td><td>&quot;27038/DFO SARA 388&quot;</td><td>&quot;https://www.whaleresearch.com/…</td></tr><tr><td>&hellip;</td><td>&hellip;</td><td>&hellip;</td><td>&hellip;</td><td>&hellip;</td><td>&hellip;</td><td>&hellip;</td><td>&hellip;</td><td>&hellip;</td><td>&hellip;</td><td>&hellip;</td><td>&hellip;</td><td>&hellip;</td><td>&hellip;</td><td>&hellip;</td><td>&hellip;</td><td>&hellip;</td><td>&hellip;</td><td>&hellip;</td></tr><tr><td>null</td><td>null</td><td>null</td><td>null</td><td>&quot;12:15:00&quot;</td><td>&quot;13:05:00&quot;</td><td>&quot;3000s (~50 minutes)&quot;</td><td>&quot;Orcinus&quot;</td><td>&quot;Dave Ellifrit&quot;</td><td>&quot;Transients&quot;</td><td>null</td><td>&quot;Sydney Channel/Spit&quot;</td><td>48.624001</td><td>-123.35833</td><td>48.668667</td><td>-123.355003</td><td>&quot;Jane Cogan called Dave at 1055…</td><td>&quot;121238/ DFO SARA 388&quot;</td><td>&quot;https://whaleresearch.wixsite.…</td></tr><tr><td>null</td><td>null</td><td>null</td><td>null</td><td>&quot;12:24:00&quot;</td><td>&quot;03:42:00&quot;</td><td>&quot;-31320s (~-8.7 hours)&quot;</td><td>&quot;Orcinus&quot;</td><td>&quot;Dave Ellifrit,Rachel John&quot;</td><td>&quot;J&quot;</td><td>null</td><td>&quot;Boundary Pass and Haro Strait&quot;</td><td>48.724499</td><td>-123.065666</td><td>48.585835</td><td>-123.203163</td><td>&quot;Dave was working in the office…</td><td>&quot;21238/ DFO SARA 388&quot;</td><td>&quot;https://whaleresearch.wixsite.…</td></tr><tr><td>null</td><td>null</td><td>null</td><td>null</td><td>null</td><td>null</td><td>null</td><td>null</td><td>null</td><td>null</td><td>null</td><td>null</td><td>null</td><td>null</td><td>null</td><td>null</td><td>&quot;J pod calls could be heard on …</td><td>&quot;27038/DFO SARA 388&quot;</td><td>&quot;https://www.whaleresearch.com/…</td></tr><tr><td>null</td><td>null</td><td>null</td><td>null</td><td>&quot;03:13:00&quot;</td><td>&quot;04:05:00&quot;</td><td>&quot;3120s (~52 minutes)&quot;</td><td>&quot;KCB III&quot;</td><td>&quot;Michael Weiss,Alondra Caro Rui…</td><td>&quot;Bigg&#x27;s killer whales&quot;</td><td>null</td><td>&quot;Haro Strait&quot;</td><td>48.531834</td><td>-123.174004</td><td>48.580166</td><td>-123.175331</td><td>&quot;After leaving the T075Bs (see …</td><td>&quot;27038/DFO SARA 388&quot;</td><td>&quot;https://www.whaleresearch.com/…</td></tr><tr><td>null</td><td>null</td><td>null</td><td>null</td><td>null</td><td>null</td><td>null</td><td>null</td><td>null</td><td>null</td><td>null</td><td>null</td><td>null</td><td>null</td><td>null</td><td>null</td><td>&quot;There were reports of J pod he…</td><td>&quot;27038/DFO SARA 388&quot;</td><td>&quot;https://www.whaleresearch.com/…</td></tr></tbody></table></div>"
      ],
      "text/plain": [
       "shape: (775, 19)\n",
       "┌──────┬────────────┬────────────┬────────────┬───┬────────────┬───────────┬───────────┬───────────┐\n",
       "│ year ┆ date       ┆ encounter_ ┆ encounter_ ┆ … ┆ end_longit ┆ encounter ┆ nmfs_perm ┆ link      │\n",
       "│ ---  ┆ ---        ┆ sequence   ┆ number     ┆   ┆ ude        ┆ _summary  ┆ it        ┆ ---       │\n",
       "│ i64  ┆ str        ┆ ---        ┆ ---        ┆   ┆ ---        ┆ ---       ┆ ---       ┆ str       │\n",
       "│      ┆            ┆ str        ┆ i64        ┆   ┆ f64        ┆ str       ┆ str       ┆           │\n",
       "╞══════╪════════════╪════════════╪════════════╪═══╪════════════╪═══════════╪═══════════╪═══════════╡\n",
       "│ 2024 ┆ 2024-10-06 ┆ 1          ┆ 100        ┆ … ┆ -124.86000 ┆ After     ┆ 27038/DFO ┆ https://w │\n",
       "│      ┆            ┆            ┆            ┆   ┆ 1          ┆ Mark’s    ┆ SARA 388  ┆ ww.whaler │\n",
       "│      ┆            ┆            ┆            ┆   ┆            ┆ encounter ┆           ┆ esearch.c │\n",
       "│      ┆            ┆            ┆            ┆   ┆            ┆ with me…  ┆           ┆ om/…      │\n",
       "│ 2024 ┆ 2024-09-16 ┆ 1          ┆ 96         ┆ … ┆ -123.16100 ┆ The       ┆ 27038/DFO ┆ https://w │\n",
       "│      ┆            ┆            ┆            ┆   ┆ 3          ┆ morning   ┆ SARA 388  ┆ ww.whaler │\n",
       "│      ┆            ┆            ┆            ┆   ┆            ┆ began     ┆           ┆ esearch.c │\n",
       "│      ┆            ┆            ┆            ┆   ┆            ┆ with      ┆           ┆ om/…      │\n",
       "│      ┆            ┆            ┆            ┆   ┆            ┆ reports…  ┆           ┆           │\n",
       "│ 2024 ┆ 2024-09-15 ┆ 21         ┆ 95         ┆ … ┆ -123.18333 ┆ J, K, and ┆ 27038/DFO ┆ https://w │\n",
       "│      ┆            ┆            ┆            ┆   ┆ 4          ┆ L pods    ┆ SARA 388  ┆ ww.whaler │\n",
       "│      ┆            ┆            ┆            ┆   ┆            ┆ had been  ┆           ┆ esearch.c │\n",
       "│      ┆            ┆            ┆            ┆   ┆            ┆ repo…     ┆           ┆ om/…      │\n",
       "│ 2024 ┆ 2024-09-13 ┆ 2          ┆ 94         ┆ … ┆ -123.30833 ┆ Once we   ┆ 27038/DFO ┆ https://w │\n",
       "│      ┆            ┆            ┆            ┆   ┆ 4          ┆ left J    ┆ SARA 388  ┆ ww.whaler │\n",
       "│      ┆            ┆            ┆            ┆   ┆            ┆ pod (Enco ┆           ┆ esearch.c │\n",
       "│      ┆            ┆            ┆            ┆   ┆            ┆ unter …   ┆           ┆ om/…      │\n",
       "│ 2024 ┆ 2024-09-13 ┆ 1          ┆ 93         ┆ … ┆ -123.06033 ┆ As we     ┆ 27038/DFO ┆ https://w │\n",
       "│      ┆            ┆            ┆            ┆   ┆ 3          ┆ were      ┆ SARA 388  ┆ ww.whaler │\n",
       "│      ┆            ┆            ┆            ┆   ┆            ┆ coming    ┆           ┆ esearch.c │\n",
       "│      ┆            ┆            ┆            ┆   ┆            ┆ home late ┆           ┆ om/…      │\n",
       "│      ┆            ┆            ┆            ┆   ┆            ┆ af…       ┆           ┆           │\n",
       "│ …    ┆ …          ┆ …          ┆ …          ┆ … ┆ …          ┆ …         ┆ …         ┆ …         │\n",
       "│ null ┆ null       ┆ null       ┆ null       ┆ … ┆ -123.35500 ┆ Jane      ┆ 121238/   ┆ https://w │\n",
       "│      ┆            ┆            ┆            ┆   ┆ 3          ┆ Cogan     ┆ DFO SARA  ┆ haleresea │\n",
       "│      ┆            ┆            ┆            ┆   ┆            ┆ called    ┆ 388       ┆ rch.wixsi │\n",
       "│      ┆            ┆            ┆            ┆   ┆            ┆ Dave at   ┆           ┆ te.…      │\n",
       "│      ┆            ┆            ┆            ┆   ┆            ┆ 1055…     ┆           ┆           │\n",
       "│ null ┆ null       ┆ null       ┆ null       ┆ … ┆ -123.20316 ┆ Dave was  ┆ 21238/    ┆ https://w │\n",
       "│      ┆            ┆            ┆            ┆   ┆ 3          ┆ working   ┆ DFO SARA  ┆ haleresea │\n",
       "│      ┆            ┆            ┆            ┆   ┆            ┆ in the    ┆ 388       ┆ rch.wixsi │\n",
       "│      ┆            ┆            ┆            ┆   ┆            ┆ office…   ┆           ┆ te.…      │\n",
       "│ null ┆ null       ┆ null       ┆ null       ┆ … ┆ null       ┆ J pod     ┆ 27038/DFO ┆ https://w │\n",
       "│      ┆            ┆            ┆            ┆   ┆            ┆ calls     ┆ SARA 388  ┆ ww.whaler │\n",
       "│      ┆            ┆            ┆            ┆   ┆            ┆ could be  ┆           ┆ esearch.c │\n",
       "│      ┆            ┆            ┆            ┆   ┆            ┆ heard on  ┆           ┆ om/…      │\n",
       "│      ┆            ┆            ┆            ┆   ┆            ┆ …         ┆           ┆           │\n",
       "│ null ┆ null       ┆ null       ┆ null       ┆ … ┆ -123.17533 ┆ After     ┆ 27038/DFO ┆ https://w │\n",
       "│      ┆            ┆            ┆            ┆   ┆ 1          ┆ leaving   ┆ SARA 388  ┆ ww.whaler │\n",
       "│      ┆            ┆            ┆            ┆   ┆            ┆ the       ┆           ┆ esearch.c │\n",
       "│      ┆            ┆            ┆            ┆   ┆            ┆ T075Bs    ┆           ┆ om/…      │\n",
       "│      ┆            ┆            ┆            ┆   ┆            ┆ (see …    ┆           ┆           │\n",
       "│ null ┆ null       ┆ null       ┆ null       ┆ … ┆ null       ┆ There     ┆ 27038/DFO ┆ https://w │\n",
       "│      ┆            ┆            ┆            ┆   ┆            ┆ were      ┆ SARA 388  ┆ ww.whaler │\n",
       "│      ┆            ┆            ┆            ┆   ┆            ┆ reports   ┆           ┆ esearch.c │\n",
       "│      ┆            ┆            ┆            ┆   ┆            ┆ of J pod  ┆           ┆ om/…      │\n",
       "│      ┆            ┆            ┆            ┆   ┆            ┆ he…       ┆           ┆           │\n",
       "└──────┴────────────┴────────────┴────────────┴───┴────────────┴───────────┴───────────┴───────────┘"
      ]
     },
     "execution_count": 6,
     "metadata": {},
     "output_type": "execute_result"
    }
   ],
   "source": [
    "#load libraries\n",
    "import polars as pl\n",
    "\n",
    "#load in data \n",
    "orcas = pl.read_csv(\"https://raw.githubusercontent.com/rfordatascience/tidytuesday/master/data/2024/2024-10-15/orcas.csv\", null_values=\"NA\")\n",
    "orcas"
   ]
  }
 ],
 "metadata": {
  "kernelspec": {
   "display_name": "Python 3",
   "language": "python",
   "name": "python3"
  },
  "language_info": {
   "codemirror_mode": {
    "name": "ipython",
    "version": 3
   },
   "file_extension": ".py",
   "mimetype": "text/x-python",
   "name": "python",
   "nbconvert_exporter": "python",
   "pygments_lexer": "ipython3",
   "version": "3.12.3"
  }
 },
 "nbformat": 4,
 "nbformat_minor": 2
}
